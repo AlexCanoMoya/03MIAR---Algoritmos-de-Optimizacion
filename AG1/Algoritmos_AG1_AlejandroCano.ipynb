{
  "nbformat": 4,
  "nbformat_minor": 0,
  "metadata": {
    "colab": {
      "name": "Algoritmos AG1 - AlejandroCano.ipynb",
      "provenance": [],
      "collapsed_sections": [],
      "include_colab_link": true
    },
    "kernelspec": {
      "name": "python3",
      "display_name": "Python 3"
    },
    "language_info": {
      "name": "python"
    }
  },
  "cells": [
    {
      "cell_type": "markdown",
      "metadata": {
        "id": "view-in-github",
        "colab_type": "text"
      },
      "source": [
        "<a href=\"https://colab.research.google.com/github/AlexCanoMoya/03MIAR---Algoritmos-de-Optimizacion/blob/main/AG1/Algoritmos_AG1_AlejandroCano.ipynb\" target=\"_parent\"><img src=\"https://colab.research.google.com/assets/colab-badge.svg\" alt=\"Open In Colab\"/></a>"
      ]
    },
    {
      "cell_type": "markdown",
      "metadata": {
        "id": "GG2D6vLdYwwy"
      },
      "source": [
        "Actividad Guiada 1 de Algoritmos de Optimizacion\n",
        "\n",
        "Nombre: Alejandro Cano Moya\n",
        "\n",
        "https://colab.research.google.com/drive/13Pv_Nv3Z0rPAffUaAKIsijJlEGmYdfTw?usp=sharing\n",
        "\n",
        "https://github.com/AlexCanoMoya/03MAIR---Algoritmos-de-Optimizacion"
      ]
    },
    {
      "cell_type": "code",
      "metadata": {
        "id": "rTiqLuX2ZKuL",
        "colab": {
          "base_uri": "https://localhost:8080/"
        },
        "outputId": "49176375-8d56-43f5-ae68-750388f7ed89"
      },
      "source": [
        "#Torres de Hanoi - Divide y venceras\n",
        "################################################################################\n",
        "\n",
        "\n",
        "################################################################\n",
        "def Torres_Hanoi(N, desde, hasta):\n",
        "  # N = Nº fichas, desde y hasta refieren el número de la torre (1, 2 ó 3)\n",
        "  if N == 1:\n",
        "    print(f\"Llevar desde torre {str(desde)} hasta torre {str(hasta)}\")\n",
        "  else:\n",
        "    Torres_Hanoi(N - 1, desde, 6 - desde - hasta)\n",
        "    print(f\"Llevar desde torre {str(desde)} hasta torre {str(hasta)}\")\n",
        "    Torres_Hanoi(N - 1, 6 - desde - hasta, hasta)  \n",
        "\n",
        "Torres_Hanoi(6, 1, 3)\n",
        "################################################################"
      ],
      "execution_count": 8,
      "outputs": [
        {
          "output_type": "stream",
          "text": [
            "Llevar desde torre 1 hasta torre 2\n",
            "Llevar desde torre 1 hasta torre 3\n",
            "Llevar desde torre 2 hasta torre 3\n",
            "Llevar desde torre 1 hasta torre 2\n",
            "Llevar desde torre 3 hasta torre 1\n",
            "Llevar desde torre 3 hasta torre 2\n",
            "Llevar desde torre 1 hasta torre 2\n",
            "Llevar desde torre 1 hasta torre 3\n",
            "Llevar desde torre 2 hasta torre 3\n",
            "Llevar desde torre 2 hasta torre 1\n",
            "Llevar desde torre 3 hasta torre 1\n",
            "Llevar desde torre 2 hasta torre 3\n",
            "Llevar desde torre 1 hasta torre 2\n",
            "Llevar desde torre 1 hasta torre 3\n",
            "Llevar desde torre 2 hasta torre 3\n",
            "Llevar desde torre 1 hasta torre 2\n",
            "Llevar desde torre 3 hasta torre 1\n",
            "Llevar desde torre 3 hasta torre 2\n",
            "Llevar desde torre 1 hasta torre 2\n",
            "Llevar desde torre 3 hasta torre 1\n",
            "Llevar desde torre 2 hasta torre 3\n",
            "Llevar desde torre 2 hasta torre 1\n",
            "Llevar desde torre 3 hasta torre 1\n",
            "Llevar desde torre 3 hasta torre 2\n",
            "Llevar desde torre 1 hasta torre 2\n",
            "Llevar desde torre 1 hasta torre 3\n",
            "Llevar desde torre 2 hasta torre 3\n",
            "Llevar desde torre 1 hasta torre 2\n",
            "Llevar desde torre 3 hasta torre 1\n",
            "Llevar desde torre 3 hasta torre 2\n",
            "Llevar desde torre 1 hasta torre 2\n",
            "Llevar desde torre 1 hasta torre 3\n",
            "Llevar desde torre 2 hasta torre 3\n",
            "Llevar desde torre 2 hasta torre 1\n",
            "Llevar desde torre 3 hasta torre 1\n",
            "Llevar desde torre 2 hasta torre 3\n",
            "Llevar desde torre 1 hasta torre 2\n",
            "Llevar desde torre 1 hasta torre 3\n",
            "Llevar desde torre 2 hasta torre 3\n",
            "Llevar desde torre 2 hasta torre 1\n",
            "Llevar desde torre 3 hasta torre 1\n",
            "Llevar desde torre 3 hasta torre 2\n",
            "Llevar desde torre 1 hasta torre 2\n",
            "Llevar desde torre 3 hasta torre 1\n",
            "Llevar desde torre 2 hasta torre 3\n",
            "Llevar desde torre 2 hasta torre 1\n",
            "Llevar desde torre 3 hasta torre 1\n",
            "Llevar desde torre 2 hasta torre 3\n",
            "Llevar desde torre 1 hasta torre 2\n",
            "Llevar desde torre 1 hasta torre 3\n",
            "Llevar desde torre 2 hasta torre 3\n",
            "Llevar desde torre 1 hasta torre 2\n",
            "Llevar desde torre 3 hasta torre 1\n",
            "Llevar desde torre 3 hasta torre 2\n",
            "Llevar desde torre 1 hasta torre 2\n",
            "Llevar desde torre 1 hasta torre 3\n",
            "Llevar desde torre 2 hasta torre 3\n",
            "Llevar desde torre 2 hasta torre 1\n",
            "Llevar desde torre 3 hasta torre 1\n",
            "Llevar desde torre 2 hasta torre 3\n",
            "Llevar desde torre 1 hasta torre 2\n",
            "Llevar desde torre 1 hasta torre 3\n",
            "Llevar desde torre 2 hasta torre 3\n"
          ],
          "name": "stdout"
        }
      ]
    },
    {
      "cell_type": "markdown",
      "metadata": {
        "id": "F09TBO93qDnW"
      },
      "source": [
        ""
      ]
    },
    {
      "cell_type": "code",
      "metadata": {
        "id": "UTL6wiczQVDA"
      },
      "source": [
        ""
      ],
      "execution_count": null,
      "outputs": []
    },
    {
      "cell_type": "code",
      "metadata": {
        "id": "YwBudj2hYoMR",
        "colab": {
          "base_uri": "https://localhost:8080/"
        },
        "outputId": "8eed8549-5034-494e-885d-732426147a6f"
      },
      "source": [
        "#Cambio de monedas - Técnica voraz\n",
        "################################################################################\n",
        "\n",
        "################################################################\n",
        "def cambio_monedas(CANTIDAD,SISTEMA):\n",
        "  #print(f\"SISTEMA:\\n{SISTEMA}\")\n",
        "  VALOR_ACUMULADO = 0\n",
        "  SOLUCION = [0 for i in range(len(SISTEMA))] # [0, 0, 0, 0]\n",
        "\n",
        "  for i in range(len(SISTEMA)):\n",
        "    monedas = (CANTIDAD - VALOR_ACUMULADO)//SISTEMA[i]\n",
        "    SOLUCION[i] = monedas\n",
        "    VALOR_ACUMULADO = VALOR_ACUMULADO + SISTEMA[i]*monedas\n",
        "    \n",
        "    if VALOR_ACUMULADO == CANTIDAD:\n",
        "      return SOLUCION\n",
        "  \n",
        "  if VALOR_ACUMULADO != CANTIDAD:\n",
        "    print(\"No hay solución\")\n",
        "  else:\n",
        "    return SOLUCION\n",
        "\n",
        "SISTEMA = sorted([25, 10, 5, 1], reverse = True)\n",
        "\n",
        "cambio_monedas(36, SISTEMA)\n",
        "################################################################"
      ],
      "execution_count": 27,
      "outputs": [
        {
          "output_type": "execute_result",
          "data": {
            "text/plain": [
              "[1, 1, 0, 1]"
            ]
          },
          "metadata": {
            "tags": []
          },
          "execution_count": 27
        }
      ]
    },
    {
      "cell_type": "code",
      "metadata": {
        "id": "9toJ4WjhQUNj"
      },
      "source": [
        ""
      ],
      "execution_count": null,
      "outputs": []
    },
    {
      "cell_type": "code",
      "metadata": {
        "id": "H4Iwt2XRZTFr",
        "colab": {
          "base_uri": "https://localhost:8080/"
        },
        "outputId": "5da62361-b8d2-45e2-d88d-d0be83894936"
      },
      "source": [
        "#N Reinas - Vuelta Atrás()\n",
        "################################################################################\n",
        "\n",
        "#Verifica que en la solución parcial no hay amenzas entre reinas\n",
        "################################################################\n",
        "def es_prometedora(SOLUCION,etapa):\n",
        "################################################################\n",
        "  #print(SOLUCION)\n",
        "  #Si la solución tiene dos valores iguales no es valida => Dos reinas en la misma fila\n",
        "  for i in range(etapa+1):\n",
        "    #print(\"El valor \" + str(SOLUCION[i]) + \" está \" +  str(SOLUCION.count(SOLUCION[i])) + \" veces\")\n",
        "    if SOLUCION.count(SOLUCION[i]) > 1:       \n",
        "      return False\n",
        "  \n",
        "    #Verifica las diagonales\n",
        "    for j in range(i+1, etapa +1 ):\n",
        "      #print(\"Comprobando diagonal de \" + str(i) + \" y \" + str(j))\n",
        "      if abs(i-j) == abs(SOLUCION[i]-SOLUCION[j]) : return False\n",
        "  return True\n",
        "\n",
        "#Traduce la solución al tablero\n",
        "################################################################\n",
        "def escribe_solucion(S):\n",
        "################################################################\n",
        "  n = len(S)\n",
        "  for x in range(n):\n",
        "    print(\"\")\n",
        "    for i in range(n):\n",
        "      if S[i] == x+1:\n",
        "        print(\" X \" , end=\"\")\n",
        "      else:\n",
        "        print(\" - \", end=\"\")\n",
        "\n",
        "\n",
        "\n",
        "#Proceso principal de N-Reinas\n",
        "################################################################\n",
        "def reinas(N, solucion=[], etapa=0): \n",
        "################################################################\n",
        "  if len(solucion) == 0:\n",
        "    solucion = [0 for i in range(N)]\n",
        "\n",
        "  for i in range(1, N+1):\n",
        "    solucion[etapa] = i\n",
        "\n",
        "    if es_prometedora(solucion, etapa):\n",
        "      if etapa == N-1:\n",
        "         print(\"\\nLa solución es:\", solucion)\n",
        "         escribe_solucion(solucion)\n",
        "      else:\n",
        "        reinas(N, solucion, etapa+1)\n",
        "    \n",
        "    else:\n",
        "      None\n",
        "\n",
        "    solucion[etapa] = 0\n",
        "\n",
        "\n",
        "reinas(4, solucion = [], etapa = 0)"
      ],
      "execution_count": 38,
      "outputs": [
        {
          "output_type": "stream",
          "text": [
            "\n",
            "La solución es: [2, 4, 1, 3]\n",
            "\n",
            " -  -  X  - \n",
            " X  -  -  - \n",
            " -  -  -  X \n",
            " -  X  -  - \n",
            "La solución es: [3, 1, 4, 2]\n",
            "\n",
            " -  X  -  - \n",
            " -  -  -  X \n",
            " X  -  -  - \n",
            " -  -  X  - "
          ],
          "name": "stdout"
        }
      ]
    },
    {
      "cell_type": "code",
      "metadata": {
        "id": "eTZclKH9QV0R"
      },
      "source": [
        ""
      ],
      "execution_count": null,
      "outputs": []
    },
    {
      "cell_type": "code",
      "metadata": {
        "id": "iPcgVSMabXrU"
      },
      "source": [
        "#Viaje por el rio - Programación dinámica\n",
        "################################################################################\n",
        "\n",
        "TARIFAS = [\n",
        "[0,5,4,3,999,999,999],\n",
        "[999,0,999,2,3,999,11],\n",
        "[999,999, 0,1,999,4,10],\n",
        "[999,999,999, 0,5,6,9],\n",
        "[999,999, 999,999,0,999,4],\n",
        "[999,999, 999,999,999,0,3],\n",
        "[999,999,999,999,999,999,0]\n",
        "]\n",
        "\n",
        "#999 se puede sustituir por float(\"inf\")\n",
        "\n",
        "\n",
        "#Calculo de la matriz de PRECIOS y RUTAS\n",
        "################################################################  \n",
        "def Precios(TARIFAS):\n",
        "################################################################ \n",
        "#....\n",
        "\n",
        "\n",
        "\n",
        "\n",
        "\n",
        "\n",
        "PRECIOS,RUTA = Precios(TARIFAS)  \n",
        "#print(PRECIOS[0][6])\n",
        "\n",
        "print(\"PRECIOS\")\n",
        "for i in range(len(TARIFAS)):\n",
        "  print(PRECIOS[i])\n",
        "\n",
        "print(\"\\nRUTA\")  \n",
        "for i in range(len(TARIFAS)):\n",
        "  print(RUTA[i])  \n",
        "  \n",
        "#Determinar la ruta con Recursividad\n",
        "################################################################\n",
        "def calcular_ruta(RUTA, desde, hasta):\n",
        "################################################################\n",
        "  if desde == hasta:\n",
        "    #print(\"Ir a :\" + str(desde))\n",
        "    return \"\" \n",
        "  else:\n",
        "    return str(calcular_ruta( RUTA, desde, RUTA[desde][hasta])) +  \\\n",
        "                ',' + \\\n",
        "                str(RUTA[desde][hasta] \\\n",
        "              ) \n",
        "\n",
        "print(\"\\nLa ruta es:\")  \n",
        "calcular_ruta(RUTA, 0,6) "
      ],
      "execution_count": null,
      "outputs": []
    },
    {
      "cell_type": "code",
      "metadata": {
        "id": "TocxR55dQWq5"
      },
      "source": [
        ""
      ],
      "execution_count": null,
      "outputs": []
    }
  ]
}